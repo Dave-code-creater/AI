{
  "nbformat": 4,
  "nbformat_minor": 0,
  "metadata": {
    "colab": {
      "provenance": [],
      "toc_visible": true
    },
    "kernelspec": {
      "name": "python3",
      "display_name": "Python 3"
    },
    "language_info": {
      "name": "python"
    }
  },
  "cells": [
    {
      "cell_type": "markdown",
      "source": [
        "# Tensor, the fundamental of all things in machine learning, AI, and deep learning\n",
        "## So what is a tensor?\n",
        "`A tensor is a generalization of vectors and matrices and is easily understood as a multidimensional array.\n",
        "A tensor can be a scalar, a vector, or a matrix.\n",
        "A scalar is a single number, and a vector is an array of numbers.\n",
        "A matrix is a 2-D array of numbers.\n",
        "Tensors are a generalization of these concepts. (It could be a 3-D array, 4-D array, etc.)`"
      ],
      "metadata": {
        "id": "0lPQ4LZD-oa6"
      }
    },
    {
      "cell_type": "code",
      "source": [
        "# So how can we create a tensor\n",
        "# First, we need library to create, Personally, Pytorch\n",
        "\n",
        "import torch\n",
        "import numpy as np\n",
        "\n",
        "myTensor = torch.Tensor(3,2)\n",
        "# 3 rows and 2 columns\n",
        "myTensor\n"
      ],
      "metadata": {
        "colab": {
          "base_uri": "https://localhost:8080/"
        },
        "id": "kUX-1lte_LT7",
        "outputId": "86d127c2-cb15-4fd6-e5d4-0c7d9c7bdeb7"
      },
      "execution_count": 13,
      "outputs": [
        {
          "output_type": "execute_result",
          "data": {
            "text/plain": [
              "tensor([[0.0000e+00, 4.4186e-41],\n",
              "        [7.7052e+31, 1.9447e+31],\n",
              "        [2.1715e-18, 2.3081e-12]])"
            ]
          },
          "metadata": {},
          "execution_count": 13
        }
      ]
    },
    {
      "cell_type": "code",
      "source": [
        "# But why dont we do something like this\n",
        "# Assume that all the elements in the tensor is just one and zero\n",
        "PythonSyntax = [[0,1],\n",
        "                [1,1],\n",
        "                [1,0]]\n",
        "\n",
        "PythonSyntax"
      ],
      "metadata": {
        "colab": {
          "base_uri": "https://localhost:8080/"
        },
        "id": "lWlpC8IYAfsk",
        "outputId": "9d67098f-93eb-4d79-c2de-3f95c6b3f985"
      },
      "execution_count": 4,
      "outputs": [
        {
          "output_type": "execute_result",
          "data": {
            "text/plain": [
              "[[0, 1], [1, 1], [1, 0]]"
            ]
          },
          "metadata": {},
          "execution_count": 4
        }
      ]
    },
    {
      "cell_type": "markdown",
      "source": [
        "# Cautions\n",
        "They might seems similar but they are actually differences.\n",
        "1. Efficient Computations: Tensor create by pytorch are faster. (I will write an example below to provide it)\n",
        "2. Gradient Tracking: This is one of the important feature where it allows model to improve over time by keeps track what it need to improve\n",
        "3. GPU Supports: Tensor create by Torch or TF can move to GPU to enhace the speed"
      ],
      "metadata": {
        "id": "kFL9UMgRBJa7"
      }
    },
    {
      "cell_type": "code",
      "source": [
        "# This is regular ways that we do matrix multiplication\n",
        "def PythonMulMatrix():\n",
        "    # 3x3 matrix\n",
        "    X = [[12,7,3],\n",
        "        [4 ,5,6],\n",
        "        [7 ,8,9]]\n",
        "\n",
        "    # 3x4 matrix\n",
        "    Y = [[5,8,1,2],\n",
        "        [6,7,3,0],\n",
        "        [4,5,9,1]]\n",
        "\n",
        "    result = [[sum(a*b for a,b in zip(X_row,Y_col)) for Y_col in zip(*Y)] for X_row in X]\n",
        "PythonMulMatrix()"
      ],
      "metadata": {
        "id": "ub5-UrAoB3x8"
      },
      "execution_count": 25,
      "outputs": []
    },
    {
      "cell_type": "code",
      "source": [
        "from timeit import timeit\n",
        "print(f\"The time of execution: {timeit(PythonMulMatrix)}\")"
      ],
      "metadata": {
        "colab": {
          "base_uri": "https://localhost:8080/"
        },
        "id": "vGuXsWh1Cf6E",
        "outputId": "e41ba9d0-4820-4ea2-b31f-94d65dc75735"
      },
      "execution_count": 26,
      "outputs": [
        {
          "output_type": "stream",
          "name": "stdout",
          "text": [
            "The time of execution: 12.810568923999881\n"
          ]
        }
      ]
    },
    {
      "cell_type": "code",
      "source": [
        "# This is the use of torch matrix multiplication functions\n",
        "import time\n",
        "\n",
        "Tensor_x = torch.Tensor(3,3)\n",
        "Tensor_Y = torch.Tensor(3,4)\n",
        "start = time.time()\n",
        "result = torch.matmul(Tensor_x,Tensor_Y)\n",
        "end = time.time()\n",
        "time_execution = end-start\n",
        "result\n",
        "print(f\"The time of execution: {time_execution}\")"
      ],
      "metadata": {
        "colab": {
          "base_uri": "https://localhost:8080/"
        },
        "id": "ATZa2KjqCy9M",
        "outputId": "c73b7f23-3ccd-4c6e-a3ad-02e3e2c5ca85"
      },
      "execution_count": 27,
      "outputs": [
        {
          "output_type": "stream",
          "name": "stdout",
          "text": [
            "The time of execution: 0.0004086494445800781\n"
          ]
        }
      ]
    }
  ]
}