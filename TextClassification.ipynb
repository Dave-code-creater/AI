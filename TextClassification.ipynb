{
 "cells": [
  {
   "cell_type": "code",
   "execution_count": 16,
   "metadata": {},
   "outputs": [
    {
     "ename": "AttributeError",
     "evalue": "module 'torch' has no attribute 'Tensor'",
     "output_type": "error",
     "traceback": [
      "\u001b[0;31m---------------------------------------------------------------------------\u001b[0m",
      "\u001b[0;31mAttributeError\u001b[0m                            Traceback (most recent call last)",
      "Cell \u001b[0;32mIn[16], line 5\u001b[0m\n\u001b[1;32m      3\u001b[0m \u001b[38;5;28;01mimport\u001b[39;00m \u001b[38;5;21;01mmatplotlib\u001b[39;00m\u001b[38;5;21;01m.\u001b[39;00m\u001b[38;5;21;01mpyplot\u001b[39;00m \u001b[38;5;28;01mas\u001b[39;00m \u001b[38;5;21;01mplt\u001b[39;00m\n\u001b[1;32m      4\u001b[0m \u001b[38;5;28;01mimport\u001b[39;00m \u001b[38;5;21;01mtorch\u001b[39;00m\n\u001b[0;32m----> 5\u001b[0m \u001b[38;5;28;01mimport\u001b[39;00m \u001b[38;5;21;01mtorchtext\u001b[39;00m\n\u001b[1;32m      6\u001b[0m \u001b[38;5;28;01mfrom\u001b[39;00m \u001b[38;5;21;01mtorchtext\u001b[39;00m\u001b[38;5;21;01m.\u001b[39;00m\u001b[38;5;21;01mdata\u001b[39;00m\u001b[38;5;21;01m.\u001b[39;00m\u001b[38;5;21;01mutils\u001b[39;00m \u001b[38;5;28;01mimport\u001b[39;00m get_tokenizer\n\u001b[1;32m      7\u001b[0m \u001b[38;5;28;01mfrom\u001b[39;00m \u001b[38;5;21;01mtorch\u001b[39;00m\u001b[38;5;21;01m.\u001b[39;00m\u001b[38;5;21;01mtext\u001b[39;00m\u001b[38;5;21;01m.\u001b[39;00m\u001b[38;5;21;01mvocab\u001b[39;00m \u001b[38;5;28;01mimport\u001b[39;00m build_vocab_from_iterator\n",
      "File \u001b[0;32m/workspaces/AI/.venv/lib/python3.10/site-packages/torchtext/__init__.py:3\u001b[0m\n\u001b[1;32m      1\u001b[0m \u001b[38;5;28;01mimport\u001b[39;00m \u001b[38;5;21;01mos\u001b[39;00m\n\u001b[0;32m----> 3\u001b[0m \u001b[38;5;28;01mfrom\u001b[39;00m \u001b[38;5;21;01mtorch\u001b[39;00m\u001b[38;5;21;01m.\u001b[39;00m\u001b[38;5;21;01mhub\u001b[39;00m \u001b[38;5;28;01mimport\u001b[39;00m _get_torch_home\n\u001b[1;32m      5\u001b[0m \u001b[38;5;66;03m# the following import has to happen first in order to load the torchtext C++ library\u001b[39;00m\n\u001b[1;32m      6\u001b[0m \u001b[38;5;28;01mfrom\u001b[39;00m \u001b[38;5;21;01mtorchtext\u001b[39;00m \u001b[38;5;28;01mimport\u001b[39;00m _extension  \u001b[38;5;66;03m# noqa: F401\u001b[39;00m\n",
      "File \u001b[0;32m/workspaces/AI/.venv/lib/python3.10/site-packages/torch/hub.py:19\u001b[0m\n\u001b[1;32m     17\u001b[0m \u001b[38;5;28;01mfrom\u001b[39;00m \u001b[38;5;21;01murllib\u001b[39;00m\u001b[38;5;21;01m.\u001b[39;00m\u001b[38;5;21;01mrequest\u001b[39;00m \u001b[38;5;28;01mimport\u001b[39;00m urlopen, Request\n\u001b[1;32m     18\u001b[0m \u001b[38;5;28;01mfrom\u001b[39;00m \u001b[38;5;21;01murllib\u001b[39;00m\u001b[38;5;21;01m.\u001b[39;00m\u001b[38;5;21;01mparse\u001b[39;00m \u001b[38;5;28;01mimport\u001b[39;00m urlparse  \u001b[38;5;66;03m# noqa: F401\u001b[39;00m\n\u001b[0;32m---> 19\u001b[0m \u001b[38;5;28;01mfrom\u001b[39;00m \u001b[38;5;21;01mtorch\u001b[39;00m\u001b[38;5;21;01m.\u001b[39;00m\u001b[38;5;21;01mserialization\u001b[39;00m \u001b[38;5;28;01mimport\u001b[39;00m MAP_LOCATION\n\u001b[1;32m     21\u001b[0m \u001b[38;5;28;01mclass\u001b[39;00m \u001b[38;5;21;01m_Faketqdm\u001b[39;00m:  \u001b[38;5;66;03m# type: ignore[no-redef]\u001b[39;00m\n\u001b[1;32m     23\u001b[0m     \u001b[38;5;28;01mdef\u001b[39;00m \u001b[38;5;21m__init__\u001b[39m(\u001b[38;5;28mself\u001b[39m, total\u001b[38;5;241m=\u001b[39m\u001b[38;5;28;01mNone\u001b[39;00m, disable\u001b[38;5;241m=\u001b[39m\u001b[38;5;28;01mFalse\u001b[39;00m,\n\u001b[1;32m     24\u001b[0m                  unit\u001b[38;5;241m=\u001b[39m\u001b[38;5;28;01mNone\u001b[39;00m, \u001b[38;5;241m*\u001b[39margs, \u001b[38;5;241m*\u001b[39m\u001b[38;5;241m*\u001b[39mkwargs):\n",
      "File \u001b[0;32m/workspaces/AI/.venv/lib/python3.10/site-packages/torch/serialization.py:15\u001b[0m\n\u001b[1;32m     13\u001b[0m \u001b[38;5;28;01mfrom\u001b[39;00m \u001b[38;5;21;01m.\u001b[39;00m\u001b[38;5;21;01m_utils\u001b[39;00m \u001b[38;5;28;01mimport\u001b[39;00m _import_dotted_name\n\u001b[1;32m     14\u001b[0m \u001b[38;5;28;01mfrom\u001b[39;00m \u001b[38;5;21;01mtorch\u001b[39;00m\u001b[38;5;21;01m.\u001b[39;00m\u001b[38;5;21;01m_sources\u001b[39;00m \u001b[38;5;28;01mimport\u001b[39;00m get_source_lines_and_file\n\u001b[0;32m---> 15\u001b[0m \u001b[38;5;28;01mfrom\u001b[39;00m \u001b[38;5;21;01mtorch\u001b[39;00m\u001b[38;5;21;01m.\u001b[39;00m\u001b[38;5;21;01mtypes\u001b[39;00m \u001b[38;5;28;01mimport\u001b[39;00m Storage\n\u001b[1;32m     16\u001b[0m \u001b[38;5;28;01mfrom\u001b[39;00m \u001b[38;5;21;01mtorch\u001b[39;00m\u001b[38;5;21;01m.\u001b[39;00m\u001b[38;5;21;01mstorage\u001b[39;00m \u001b[38;5;28;01mimport\u001b[39;00m _get_dtype_from_pickle_storage_type\n\u001b[1;32m     17\u001b[0m \u001b[38;5;28;01mfrom\u001b[39;00m \u001b[38;5;21;01mtyping\u001b[39;00m \u001b[38;5;28;01mimport\u001b[39;00m Any, BinaryIO, Callable, cast, Dict, Optional, Type, Tuple, Union, IO\n",
      "File \u001b[0;32m/workspaces/AI/.venv/lib/python3.10/site-packages/torch/types.py:9\u001b[0m\n\u001b[1;32m      4\u001b[0m \u001b[38;5;28;01mimport\u001b[39;00m \u001b[38;5;21;01mbuiltins\u001b[39;00m\n\u001b[1;32m      6\u001b[0m \u001b[38;5;66;03m# Convenience aliases for common composite types that we need\u001b[39;00m\n\u001b[1;32m      7\u001b[0m \u001b[38;5;66;03m# to talk about in PyTorch\u001b[39;00m\n\u001b[0;32m----> 9\u001b[0m _TensorOrTensors \u001b[38;5;241m=\u001b[39m Union[\u001b[43mtorch\u001b[49m\u001b[38;5;241;43m.\u001b[39;49m\u001b[43mTensor\u001b[49m, Sequence[torch\u001b[38;5;241m.\u001b[39mTensor]]\n\u001b[1;32m     11\u001b[0m \u001b[38;5;66;03m# In some cases, these basic types are shadowed by corresponding\u001b[39;00m\n\u001b[1;32m     12\u001b[0m \u001b[38;5;66;03m# top-level values.  The underscore variants let us refer to these\u001b[39;00m\n\u001b[1;32m     13\u001b[0m \u001b[38;5;66;03m# types.  See https://github.com/python/mypy/issues/4146 for why these\u001b[39;00m\n\u001b[1;32m     14\u001b[0m \u001b[38;5;66;03m# workarounds is necessary\u001b[39;00m\n\u001b[1;32m     15\u001b[0m _int \u001b[38;5;241m=\u001b[39m builtins\u001b[38;5;241m.\u001b[39mint\n",
      "\u001b[0;31mAttributeError\u001b[0m: module 'torch' has no attribute 'Tensor'"
     ]
    }
   ],
   "source": [
    "from datasets import list_datasets,load_dataset\n",
    "import pandas as pd\n",
    "import matplotlib.pyplot as plt\n",
    "import torch\n",
    "import torchtext\n",
    "from torchtext.data.utils import get_tokenizer\n",
    "from torch.text.vocab import build_vocab_from_iterator"
   ]
  },
  {
   "cell_type": "code",
   "execution_count": 2,
   "metadata": {},
   "outputs": [
    {
     "name": "stderr",
     "output_type": "stream",
     "text": [
      "/tmp/ipykernel_18383/1086398323.py:1: FutureWarning: list_datasets is deprecated and will be removed in the next major version of datasets. Use 'huggingface_hub.list_datasets' instead.\n",
      "  all_datasets = list_datasets()\n"
     ]
    },
    {
     "name": "stdout",
     "output_type": "stream",
     "text": [
      "There are 99765 datasets currently available on the hub\n"
     ]
    }
   ],
   "source": [
    "all_datasets = list_datasets()\n",
    "print(f\"There are {len(all_datasets)} datasets currently available on the hub\")"
   ]
  },
  {
   "cell_type": "code",
   "execution_count": 3,
   "metadata": {},
   "outputs": [
    {
     "name": "stderr",
     "output_type": "stream",
     "text": [
      "/workspaces/AI/.venv/lib/python3.10/site-packages/datasets/load.py:1429: FutureWarning: The repository for emotion contains custom code which must be executed to correctly load the dataset. You can inspect the repository content at https://hf.co/datasets/emotion\n",
      "You can avoid this message in future by passing the argument `trust_remote_code=True`.\n",
      "Passing `trust_remote_code=True` will be mandatory to load this dataset from the next major release of `datasets`.\n",
      "  warnings.warn(\n"
     ]
    }
   ],
   "source": [
    "emotions = load_dataset(\"emotion\")\n",
    "emotions = list(emotions['train'])"
   ]
  },
  {
   "cell_type": "code",
   "execution_count": 4,
   "metadata": {},
   "outputs": [
    {
     "data": {
      "text/plain": [
       "{'text': 'i didnt feel humiliated', 'label': 0}"
      ]
     },
     "execution_count": 4,
     "metadata": {},
     "output_type": "execute_result"
    }
   ],
   "source": [
    "emotions[0]"
   ]
  },
  {
   "cell_type": "code",
   "execution_count": 5,
   "metadata": {},
   "outputs": [],
   "source": [
    "# Write everything into a csv file \n",
    "def write_to_csv(dataset):\n",
    "    # Create directory if not exist\n",
    "    try:\n",
    "        os.mkdir(\"Datasets/Emotion\")\n",
    "    except FileExistsError:\n",
    "        pass\n",
    "    df = pd.DataFrame(dataset)\n",
    "    df.to_csv(\"emotion.csv\",index=False)\n",
    "    # Moving file to the right directory\n",
    "    os.rename(\"emotion.csv\",\"Datasets/Emotion/emotion.csv\")"
   ]
  },
  {
   "cell_type": "code",
   "execution_count": 6,
   "metadata": {},
   "outputs": [
    {
     "ename": "AttributeError",
     "evalue": "'list' object has no attribute 'set_format'",
     "output_type": "error",
     "traceback": [
      "\u001b[0;31m---------------------------------------------------------------------------\u001b[0m",
      "\u001b[0;31mAttributeError\u001b[0m                            Traceback (most recent call last)",
      "Cell \u001b[0;32mIn[6], line 1\u001b[0m\n\u001b[0;32m----> 1\u001b[0m \u001b[43memotions\u001b[49m\u001b[38;5;241;43m.\u001b[39;49m\u001b[43mset_format\u001b[49m(\u001b[38;5;28mtype\u001b[39m\u001b[38;5;241m=\u001b[39m\u001b[38;5;124m\"\u001b[39m\u001b[38;5;124mpandas\u001b[39m\u001b[38;5;124m\"\u001b[39m)\n\u001b[1;32m      2\u001b[0m df \u001b[38;5;241m=\u001b[39m emotions[\u001b[38;5;124m\"\u001b[39m\u001b[38;5;124mtrain\u001b[39m\u001b[38;5;124m\"\u001b[39m][:]\n\u001b[1;32m      3\u001b[0m df\u001b[38;5;241m.\u001b[39mhead()\n",
      "\u001b[0;31mAttributeError\u001b[0m: 'list' object has no attribute 'set_format'"
     ]
    }
   ],
   "source": [
    "emotions.set_format(type=\"pandas\")\n",
    "df = emotions[\"train\"][:]\n",
    "df.head()"
   ]
  },
  {
   "cell_type": "code",
   "execution_count": null,
   "metadata": {},
   "outputs": [],
   "source": [
    "write_to_csv(emotions)"
   ]
  },
  {
   "cell_type": "code",
   "execution_count": null,
   "metadata": {},
   "outputs": [],
   "source": []
  },
  {
   "cell_type": "code",
   "execution_count": null,
   "metadata": {},
   "outputs": [
    {
     "ename": "NameError",
     "evalue": "name 'df' is not defined",
     "output_type": "error",
     "traceback": [
      "\u001b[0;31m---------------------------------------------------------------------------\u001b[0m",
      "\u001b[0;31mNameError\u001b[0m                                 Traceback (most recent call last)",
      "Cell \u001b[0;32mIn[5], line 4\u001b[0m\n\u001b[1;32m      1\u001b[0m \u001b[38;5;28;01mdef\u001b[39;00m \u001b[38;5;21mlabel_int2str\u001b[39m(row):\n\u001b[1;32m      2\u001b[0m     \u001b[38;5;28;01mreturn\u001b[39;00m emotions[\u001b[38;5;124m\"\u001b[39m\u001b[38;5;124mtrain\u001b[39m\u001b[38;5;124m\"\u001b[39m]\u001b[38;5;241m.\u001b[39mfeatures[\u001b[38;5;124m\"\u001b[39m\u001b[38;5;124mlabel\u001b[39m\u001b[38;5;124m\"\u001b[39m]\u001b[38;5;241m.\u001b[39mint2str(row)\n\u001b[0;32m----> 4\u001b[0m df[\u001b[38;5;124m\"\u001b[39m\u001b[38;5;124mLabel Name\u001b[39m\u001b[38;5;124m\"\u001b[39m] \u001b[38;5;241m=\u001b[39m \u001b[43mdf\u001b[49m[\u001b[38;5;124m\"\u001b[39m\u001b[38;5;124mlabel\u001b[39m\u001b[38;5;124m\"\u001b[39m]\u001b[38;5;241m.\u001b[39mapply(label_int2str)\n\u001b[1;32m      5\u001b[0m df\u001b[38;5;241m.\u001b[39mhead()\n",
      "\u001b[0;31mNameError\u001b[0m: name 'df' is not defined"
     ]
    }
   ],
   "source": [
    "def label_int2str(row):\n",
    "    return emotions[\"train\"].features[\"label\"].int2str(row)\n",
    "\n",
    "df[\"Label Name\"] = df[\"label\"].apply(label_int2str)\n",
    "df.head()"
   ]
  },
  {
   "cell_type": "code",
<<<<<<< HEAD
   "execution_count": 16,
   "metadata": {},
   "outputs": [
    {
     "data": {
      "image/png": "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",
      "text/plain": [
       "<Figure size 640x480 with 1 Axes>"
      ]
     },
     "metadata": {},
     "output_type": "display_data"
    }
   ],
=======
   "execution_count": null,
   "metadata": {},
   "outputs": [],
>>>>>>> c61f3f20a26bbaf62acbcfefe981c9bb753ece08
   "source": [
    "df[\"Label Name\"].value_counts().plot.barh()\n",
    "plt.show()"
   ]
  }
 ],
 "metadata": {
  "kernelspec": {
   "display_name": "Python 3",
   "language": "python",
   "name": "python3"
  },
  "language_info": {
   "codemirror_mode": {
    "name": "ipython",
    "version": 3
   },
   "file_extension": ".py",
   "mimetype": "text/x-python",
   "name": "python",
   "nbconvert_exporter": "python",
   "pygments_lexer": "ipython3",
   "version": "3.10.13"
  }
 },
 "nbformat": 4,
 "nbformat_minor": 2
}
